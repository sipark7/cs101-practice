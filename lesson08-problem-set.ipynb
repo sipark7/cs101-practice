{
 "cells": [
  {
   "cell_type": "markdown",
   "metadata": {},
   "source": [
    "# Practice Problems for Python\n",
    "## Udacity Intro to Computer Science (CS101)"
   ]
  },
  {
   "cell_type": "markdown",
   "metadata": {},
   "source": [
    "### Quiz: 10 Row Abacus"
   ]
  },
  {
   "cell_type": "code",
   "execution_count": null,
   "metadata": {
    "collapsed": true
   },
   "outputs": [],
   "source": [
    "#########################################################################\n",
    "#                 10-row School abacus\n",
    "#                         by\n",
    "#                      Michael H\n",
    "#########################################################################\n",
    "#       Description partially extracted from from wikipedia \n",
    "#\n",
    "#  Around the world, abaci have been used in pre-schools and elementary\n",
    "#\n",
    "# In Western countries, a bead frame similar to the Russian abacus but\n",
    "# with straight wires and a vertical frame has been common (see image).\n",
    "# Helps schools as an aid in teaching the numeral system and arithmetic\n",
    "#\n",
    "#         |00000*****   |     row factor 1000000000\n",
    "#         |00000*****   |     row factor 100000000\n",
    "#         |00000*****   |     row factor 10000000 \n",
    "#         |00000*****   |     row factor 1000000\n",
    "#         |00000*****   |     row factor 100000\n",
    "#         |00000*****   |     row factor 10000\n",
    "#         |00000*****   |     row factor 1000\n",
    "#         |00000****   *|     row factor 100     * 1\n",
    "#         |00000***   **|     row factor 10      * 2\n",
    "#         |00000**   ***|     row factor 1       * 3\n",
    "#                                        -----------    \n",
    "#                             Sum                123 \n",
    "#\n",
    "# Each row represents a different row factor, starting with x1 at the\n",
    "# bottom, ascending up to x1000000000 at the top row.     \n",
    "######################################################################\n",
    "\n",
    "# TASK:\n",
    "# Define a procedure print_abacus(integer) that takes a positive integer\n",
    "# and prints a visual representation (image) of an abacus setup for a \n",
    "# given positive integer value.\n",
    "# \n",
    "# Ranking\n",
    "# 1 STAR: solved the problem!\n",
    "# 2 STARS: 6 < lines <= 9\n",
    "# 3 STARS: 3 < lines <= 6\n",
    "# 4 STARS: 0 < lines <= 3"
   ]
  },
  {
   "cell_type": "code",
   "execution_count": 5,
   "metadata": {},
   "outputs": [
    {
     "name": "stdout",
     "output_type": "stream",
     "text": [
      "|00000*****   |\n",
      "|00000*****   |\n",
      "|00000*****   |\n",
      "|00000*****   |\n",
      "|00000*****   |\n",
      "|00000*****   |\n",
      "|00000*****   |\n",
      "|00000****   *|\n",
      "|00000***   **|\n",
      "|00000**   ***|\n"
     ]
    }
   ],
   "source": [
    "num = 123\n",
    "beads = '00000*****'\n",
    "start_num = 0\n",
    "blank = 10 - len(str(num))\n",
    "\n",
    "\n",
    "while blank > 0:\n",
    "    blank = blank - 1\n",
    "    print '|'+beads+'   |'\n",
    "while start_num < len(str(num)):\n",
    "    position = -int(str(num)[start_num])\n",
    "    print '|'+beads[:position]+'   '+beads[position:]+'|'\n",
    "    start_num = start_num + 1"
   ]
  },
  {
   "cell_type": "markdown",
   "metadata": {},
   "source": [
    "<pre>I broke this down into steps:\n",
    "* figure out how to print each row at value 0\n",
    "* then used negative index position to reference the value of each factor\n",
    "* used while loops to print number of higher factors with 0\n",
    "* used while loops to print each factor row corresponding to the digit\n",
    "* determined that value = 0 causes error, used if statement to print out '0' row\n",
    "</pre>"
   ]
  },
  {
   "cell_type": "code",
   "execution_count": 10,
   "metadata": {
    "collapsed": true
   },
   "outputs": [],
   "source": [
    "def print_abacus(value):\n",
    "    beads = '00000*****'\n",
    "    start_num = 0\n",
    "    blank = 10 - len(str(value))\n",
    "    \n",
    "    if value == 0:\n",
    "        blank = 10\n",
    "        while blank > 0:\n",
    "            blank = blank - 1\n",
    "            print '|'+beads+'   |'\n",
    "    else:\n",
    "        while blank > 0:\n",
    "            blank = blank - 1\n",
    "            print '|'+beads+'   |'\n",
    "        while start_num < len(str(value)):\n",
    "            position = -int(str(value)[start_num])\n",
    "            print '|'+beads[:position]+'   '+beads[position:]+'|'\n",
    "            start_num = start_num + 1"
   ]
  },
  {
   "cell_type": "code",
   "execution_count": 11,
   "metadata": {},
   "outputs": [
    {
     "name": "stdout",
     "output_type": "stream",
     "text": [
      "Abacus showing 0:\n",
      "|00000*****   |\n",
      "|00000*****   |\n",
      "|00000*****   |\n",
      "|00000*****   |\n",
      "|00000*****   |\n",
      "|00000*****   |\n",
      "|00000*****   |\n",
      "|00000*****   |\n",
      "|00000*****   |\n",
      "|00000*****   |\n"
     ]
    }
   ],
   "source": [
    "###  TEST CASES\n",
    "print \"Abacus showing 0:\"\n",
    "print_abacus(0)\n",
    "#>>>|00000*****   |\n",
    "#>>>|00000*****   |\n",
    "#>>>|00000*****   |\n",
    "#>>>|00000*****   |\n",
    "#>>>|00000*****   |\n",
    "#>>>|00000*****   |\n",
    "#>>>|00000*****   |\n",
    "#>>>|00000*****   |\n",
    "#>>>|00000*****   |\n",
    "#>>>|00000*****   |"
   ]
  },
  {
   "cell_type": "code",
   "execution_count": 8,
   "metadata": {},
   "outputs": [
    {
     "name": "stdout",
     "output_type": "stream",
     "text": [
      "Abacus showing 12345678:\n",
      "|00000*****   |\n",
      "|00000*****   |\n",
      "|00000****   *|\n",
      "|00000***   **|\n",
      "|00000**   ***|\n",
      "|00000*   ****|\n",
      "|00000   *****|\n",
      "|0000   0*****|\n",
      "|000   00*****|\n",
      "|00   000*****|\n"
     ]
    }
   ],
   "source": [
    "print \"Abacus showing 12345678:\"\n",
    "print_abacus(12345678)\n",
    "#>>>|00000*****   |\n",
    "#>>>|00000*****   |\n",
    "#>>>|00000****   *|\n",
    "#>>>|00000***   **|\n",
    "#>>>|00000**   ***|\n",
    "#>>>|00000*   ****|\n",
    "#>>>|00000   *****|\n",
    "#>>>|0000   0*****|\n",
    "#>>>|000   00*****|\n",
    "#>>>|00   000*****|"
   ]
  },
  {
   "cell_type": "code",
   "execution_count": 9,
   "metadata": {},
   "outputs": [
    {
     "name": "stdout",
     "output_type": "stream",
     "text": [
      "Abacus showing 1337:\n",
      "|00000*****   |\n",
      "|00000*****   |\n",
      "|00000*****   |\n",
      "|00000*****   |\n",
      "|00000*****   |\n",
      "|00000*****   |\n",
      "|00000****   *|\n",
      "|00000**   ***|\n",
      "|00000**   ***|\n",
      "|000   00*****|\n"
     ]
    }
   ],
   "source": [
    "print \"Abacus showing 1337:\"\n",
    "print_abacus(1337)\n",
    "#>>>|00000*****   |\n",
    "#>>>|00000*****   |\n",
    "#>>>|00000*****   |\n",
    "#>>>|00000*****   |\n",
    "#>>>|00000*****   |\n",
    "#>>>|00000*****   |\n",
    "#>>>|00000****   *|\n",
    "#>>>|00000**   ***|\n",
    "#>>>|00000**   ***|\n",
    "#>>>|000   00*****|"
   ]
  },
  {
   "cell_type": "markdown",
   "metadata": {},
   "source": [
    "### Quiz: Jungle Animal"
   ]
  },
  {
   "cell_type": "code",
   "execution_count": null,
   "metadata": {
    "collapsed": true
   },
   "outputs": [],
   "source": [
    "# By AnnaGajdova from forums\n",
    "# You are in the middle of a jungle. \n",
    "# Suddenly you see an animal coming to you. \n",
    "# Here is what you should do if the animal is:\n",
    "\n",
    "# zebra >> \"Try to ride a zebra!\"\n",
    "# cheetah >> If you are faster than a cheetah: \"Run!\" \n",
    "#            If you are not: \"Stay calm and wait!\". \n",
    "#            The speed of a cheetah is 115 km/h.\n",
    "# anything else >> \"Introduce yourself!\"\n",
    "\n",
    "# Define a procedure, jungle_animal, \n",
    "# that takes as input a string and a number, \n",
    "# an animal and your speed (in km/h), \n",
    "# and prints out what to do."
   ]
  },
  {
   "cell_type": "markdown",
   "metadata": {},
   "source": [
    "<pre>\n",
    "Simple if statements used.\n",
    "</pre>"
   ]
  },
  {
   "cell_type": "code",
   "execution_count": 13,
   "metadata": {
    "collapsed": true
   },
   "outputs": [],
   "source": [
    "def jungle_animal(animal, my_speed):\n",
    "    if animal == 'zebra':\n",
    "        print \"Try to ride a zebra!\"\n",
    "    if animal == 'cheetah':\n",
    "        if my_speed > 115.0:\n",
    "            print \"Run!\"\n",
    "        else:\n",
    "            print \"Stay calm and wait!\"\n",
    "    else:\n",
    "        print \"Introduce yourself!\""
   ]
  },
  {
   "cell_type": "code",
   "execution_count": 14,
   "metadata": {},
   "outputs": [
    {
     "name": "stdout",
     "output_type": "stream",
     "text": [
      "Stay calm and wait!\n",
      "Introduce yourself!\n"
     ]
    }
   ],
   "source": [
    "jungle_animal('cheetah', 30)\n",
    "#>>> \"Stay calm and wait!\"\n",
    "\n",
    "jungle_animal('gorilla', 21)\n",
    "#>>> \"Introduce yourself!\""
   ]
  },
  {
   "cell_type": "markdown",
   "metadata": {},
   "source": [
    "### Quiz: Leap Year Baby"
   ]
  },
  {
   "cell_type": "code",
   "execution_count": null,
   "metadata": {
    "collapsed": true
   },
   "outputs": [],
   "source": [
    "# By Ashwath from forums\n",
    "\n",
    "# A leap year baby is a baby born on Feb 29, which occurs only on a leap year.\n",
    "\n",
    "# Define a procedure is_leap_baby that takes 3 inputs: day, month and year\n",
    "# and returns True if the date is a leap day (Feb 29 in a valid leap year)\n",
    "# and False otherwise.\n",
    "\n",
    "# A year that is a multiple of 4 is a leap year unless the year is\n",
    "# divisible by 100 but not a multiple of 400 (so, 1900 is not a leap\n",
    "# year but 2000 and 2004 are)."
   ]
  },
  {
   "cell_type": "markdown",
   "metadata": {},
   "source": [
    "<pre>\n",
    "Again using if statement to isolate True and False status.\n",
    "Function 'output' is already given for test cases\n",
    "</pre>"
   ]
  },
  {
   "cell_type": "code",
   "execution_count": 17,
   "metadata": {
    "collapsed": true
   },
   "outputs": [],
   "source": [
    "def is_leap_baby(day,month,year):\n",
    "    if year % 4 == 0:\n",
    "        if year % 100 == 0 and year % 400 != 0:\n",
    "            return False\n",
    "        if month == 2 and day == 29:\n",
    "            return True\n",
    "    else:\n",
    "        return False"
   ]
  },
  {
   "cell_type": "code",
   "execution_count": 21,
   "metadata": {},
   "outputs": [
    {
     "name": "stdout",
     "output_type": "stream",
     "text": [
      "Calvin is one of an extremely rare species. He is a leap year baby!\n",
      "There's nothing special about Garfield's birthday. He is not a leap year baby!\n",
      "Hobbes is one of an extremely rare species. He is a leap year baby!\n",
      "There's nothing special about Charlie Brown's birthday. He is not a leap year baby!\n",
      "There's nothing special about Odie's birthday. He is not a leap year baby!\n"
     ]
    }
   ],
   "source": [
    "# The function 'output' prints one of two statements based on whether \n",
    "# the is_leap_baby function returned True or False.\n",
    "\n",
    "def output(status,name):\n",
    "    if status:\n",
    "        print \"%s is one of an extremely rare species. He is a leap year baby!\" % name\n",
    "    else:\n",
    "        print \"There's nothing special about %s's birthday. He is not a leap year baby!\" % name\n",
    "\n",
    "# Test Cases\n",
    "\n",
    "output(is_leap_baby(29, 2, 1996), 'Calvin')\n",
    "#>>>Calvin is one of an extremely rare species. He is a leap year baby!\n",
    "\n",
    "output(is_leap_baby(19, 6, 1978), 'Garfield')\n",
    "#>>>There's nothing special about Garfield's birthday. He is not a leap year baby!\n",
    "\n",
    "output(is_leap_baby(29, 2, 2000), 'Hobbes')\n",
    "#>>>Hobbes is one of an extremely rare species. He is a leap year baby!\n",
    "\n",
    "output(is_leap_baby(29, 2, 1900), 'Charlie Brown')\n",
    "#>>>There's nothing special about Charlie Brown's birthday. He is not a leap year baby!\n",
    "\n",
    "output(is_leap_baby(28, 2, 1976), 'Odie')\n",
    "#>>>There's nothing special about Odie's birthday. He is not a leap year baby!"
   ]
  },
  {
   "cell_type": "markdown",
   "metadata": {},
   "source": [
    "### Quiz: Superhero Nuisance"
   ]
  },
  {
   "cell_type": "code",
   "execution_count": null,
   "metadata": {
    "collapsed": true
   },
   "outputs": [],
   "source": [
    "# By Sam the Great from forums\n",
    "# That freaking superhero has been frequenting Udacity\n",
    "# as his favorite boss battle fight stage. The 'Udacity'\n",
    "# banner keeps breaking, and money is being wasted on\n",
    "# repairs. This time, we need you to proceduralize the\n",
    "# fixing process by building a machine to automatically\n",
    "# search through debris and return the 'Udacity' banner\n",
    "# to the company, and be able to similarly fix other goods.\n",
    "\n",
    "# Write a Python procedure fix_machine to take 2 string inputs\n",
    "# and returns the 2nd input string as the output if all of its\n",
    "# characters can be found in the 1st input string and \"Give me\n",
    "# something that's not useless next time.\" if it's impossible.\n",
    "# Letters that are present in the 1st input string may be used\n",
    "# as many times as necessary to create the 2nd string (you\n",
    "# don't need to keep track of repeat usage).\n",
    "\n",
    "# NOTE: # If you are experiencing difficulties taking\n",
    "        # this problem seriously, please refer back to\n",
    "        # \"Superhero flyby\", the prequel, in Problem Set 11.\n",
    "\n",
    "# TOOLS: # if statement\n",
    "         # while loop\n",
    "         # string operations\n",
    "         # Unit 1 Basics\n",
    "\n",
    "# BONUS: # \n",
    "# 5***** #  If you've graduated from CS101,\n",
    "#  Gold  #  try solving this in one line.\n",
    "# Stars! #"
   ]
  },
  {
   "cell_type": "markdown",
   "metadata": {},
   "source": [
    "<pre>\n",
    "Used while loops and if statements.\n",
    "String find method returns the index position (integer)\n",
    "if the sample string is a subset.\n",
    "If the sample string is not a subset, returns value -1.\n",
    "If sample string is empty '', method returns 0, matching first position.\n",
    "</pre>"
   ]
  },
  {
   "cell_type": "code",
   "execution_count": 22,
   "metadata": {
    "collapsed": true
   },
   "outputs": [],
   "source": [
    "def fix_machine(debris, product):\n",
    "    start, stop = 0, len(product)\n",
    "    answer = product\n",
    "    while start < stop:\n",
    "        check = debris.find(product[start])\n",
    "        if check == -1:\n",
    "            answer = \"Give me something that's not useless next time.\"\n",
    "            break\n",
    "        start = start + 1\n",
    "    return answer"
   ]
  },
  {
   "cell_type": "code",
   "execution_count": 23,
   "metadata": {},
   "outputs": [
    {
     "name": "stdout",
     "output_type": "stream",
     "text": [
      "Test case 1:  True\n",
      "Test case 2:  True\n",
      "Test case 3:  True\n",
      "Test case 4:  True\n"
     ]
    }
   ],
   "source": [
    "### TEST CASES ###\n",
    "print \"Test case 1: \", fix_machine('UdaciousUdacitee', 'Udacity') == \"Give me something that's not useless next time.\"\n",
    "print \"Test case 2: \", fix_machine('buy me dat Unicorn', 'Udacity') == 'Udacity'\n",
    "print \"Test case 3: \", fix_machine('AEIOU and sometimes y... c', 'Udacity') == 'Udacity'\n",
    "print \"Test case 4: \", fix_machine('wsx0-=mttrhix', 't-shirt') == 't-shirt'"
   ]
  },
  {
   "cell_type": "markdown",
   "metadata": {},
   "source": [
    "### Quiz: Days Old"
   ]
  },
  {
   "cell_type": "code",
   "execution_count": null,
   "metadata": {
    "collapsed": true
   },
   "outputs": [],
   "source": [
    "# By Websten from forums\n",
    "#\n",
    "# Given your birthday and the current date, calculate your age in days. \n",
    "# Account for leap days. \n",
    "#\n",
    "# Assume that the birthday and current date are correct dates (and no \n",
    "# time travel). \n",
    "#\n",
    "\n",
    "def daysBetweenDates(year1, month1, day1, year2, month2, day2):\n",
    "    ##\n",
    "    # Your code here.\n",
    "    ##\n",
    "\n",
    "\n",
    "# Test routine\n",
    "\n",
    "def test():\n",
    "    test_cases = [((2012,1,1,2012,2,28), 58), \n",
    "                  ((2012,1,1,2012,3,1), 60),\n",
    "                  ((2011,6,30,2012,6,30), 366),\n",
    "                  ((2011,1,1,2012,8,8), 585 ),\n",
    "                  ((1900,1,1,1999,12,31), 36523)]\n",
    "    for (args, answer) in test_cases:\n",
    "        result = daysBetweenDates(*args)\n",
    "        if result != answer:\n",
    "            print \"Test with data:\", args, \"failed\"\n",
    "        else:\n",
    "            print \"Test case passed!\"\n",
    "\n",
    "test()\n"
   ]
  },
  {
   "cell_type": "code",
   "execution_count": null,
   "metadata": {
    "collapsed": true
   },
   "outputs": [],
   "source": []
  }
 ],
 "metadata": {
  "kernelspec": {
   "display_name": "Python [default]",
   "language": "python",
   "name": "python2"
  },
  "language_info": {
   "codemirror_mode": {
    "name": "ipython",
    "version": 2
   },
   "file_extension": ".py",
   "mimetype": "text/x-python",
   "name": "python",
   "nbconvert_exporter": "python",
   "pygments_lexer": "ipython2",
   "version": "2.7.13"
  }
 },
 "nbformat": 4,
 "nbformat_minor": 2
}
