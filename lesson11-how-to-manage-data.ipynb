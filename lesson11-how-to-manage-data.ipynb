{
 "cells": [
  {
   "cell_type": "markdown",
   "metadata": {},
   "source": [
    "# Python Practice\n",
    "## Udacity Intro to Computer Science (CS101)"
   ]
  },
  {
   "cell_type": "markdown",
   "metadata": {},
   "source": [
    "### Quiz: Days in a month"
   ]
  },
  {
   "cell_type": "code",
   "execution_count": 1,
   "metadata": {
    "collapsed": true
   },
   "outputs": [],
   "source": [
    "# Given the variable,\n",
    "\n",
    "days_in_month = [31,28,31,30,31,30,31,31,30,31,30,31]\n",
    "\n",
    "# define a procedure, how_many_days,\n",
    "# that takes as input a number\n",
    "# representing a month, and returns\n",
    "# the number of days in that month.\n",
    "\n",
    "def how_many_days(month_number):\n",
    "    return days_in_month[month_number - 1]"
   ]
  },
  {
   "cell_type": "code",
   "execution_count": 2,
   "metadata": {},
   "outputs": [
    {
     "name": "stdout",
     "output_type": "stream",
     "text": [
      "31\n",
      "30\n"
     ]
    }
   ],
   "source": [
    "print how_many_days(1)\n",
    "#>>> 31\n",
    "\n",
    "print how_many_days(9)\n",
    "#>>> 30"
   ]
  },
  {
   "cell_type": "markdown",
   "metadata": {},
   "source": [
    "### Quiz: Countries"
   ]
  },
  {
   "cell_type": "code",
   "execution_count": 3,
   "metadata": {
    "collapsed": true
   },
   "outputs": [],
   "source": [
    "# Given the variable countries defined as:\n",
    "\n",
    "#             Name    Capital  Populations (millions)\n",
    "countries = [['China','Beijing',1350],\n",
    "             ['India','Delhi',1210],\n",
    "             ['Romania','Bucharest',21],\n",
    "             ['United States','Washington',307]]\n",
    "\n",
    "# Write code to print out the capital of India\n",
    "# by accessing the list\n",
    "\n"
   ]
  },
  {
   "cell_type": "code",
   "execution_count": 8,
   "metadata": {},
   "outputs": [
    {
     "name": "stdout",
     "output_type": "stream",
     "text": [
      "Delhi\n"
     ]
    }
   ],
   "source": [
    "print countries[1][1]"
   ]
  },
  {
   "cell_type": "markdown",
   "metadata": {},
   "source": [
    "### Quiz: Relative Size"
   ]
  },
  {
   "cell_type": "code",
   "execution_count": 11,
   "metadata": {},
   "outputs": [
    {
     "name": "stdout",
     "output_type": "stream",
     "text": [
      "64\n"
     ]
    }
   ],
   "source": [
    "# What multiple of Romania's population is the population\n",
    "# of China? Calculate this by accessing the list and\n",
    "# dividing the population of China (1350)\n",
    "# by the population of Romania (21).\n",
    "# Please print your result.\n",
    "\n",
    "print countries[0][2]/countries[2][2]"
   ]
  },
  {
   "cell_type": "markdown",
   "metadata": {},
   "source": [
    "### Aliasing\n",
    "<pre>\n",
    "Aliasing refers to two variables referring to the same list object.\n",
    "When a list position is changed in value using variable index, then the other\n",
    "variable will reflect that change, because the change occurred on the object itself\n",
    "and both variables point to the same list object. (assignment = )\n",
    "</pre>"
   ]
  },
  {
   "cell_type": "markdown",
   "metadata": {},
   "source": [
    "### Quiz: Replace Spy"
   ]
  },
  {
   "cell_type": "code",
   "execution_count": 12,
   "metadata": {},
   "outputs": [
    {
     "name": "stdout",
     "output_type": "stream",
     "text": [
      "[0, 0, 8]\n"
     ]
    }
   ],
   "source": [
    "# Define a procedure, replace_spy,\n",
    "# that takes as its input a list of\n",
    "# three numbers, and modifies the\n",
    "# value of the third element in the\n",
    "# input list to be one more than its\n",
    "# previous value.\n",
    "\n",
    "spy = [0,0,7]\n",
    "\n",
    "def replace_spy(list_input_of_three_numbers):\n",
    "    list_input_of_three_numbers[2] = list_input_of_three_numbers[2] + 1\n",
    "    return list_input_of_three_numbers # this is not necessary\n",
    "\n",
    "# In the test below, the first line calls your \n",
    "# procedure which will change spy, and the \n",
    "# second checks you have changed it.\n",
    "# Uncomment the top two lines below.\n",
    "\n",
    "replace_spy(spy)\n",
    "print spy\n",
    "#>>> [0,0,8]"
   ]
  },
  {
   "cell_type": "code",
   "execution_count": null,
   "metadata": {
    "collapsed": true
   },
   "outputs": [],
   "source": [
    "# 1.0 TB Harddrive\n",
    "# 8 * 2 ** 40 bits ~ 8.8 Trillion bits\n",
    "# latency  8 milliseconds (1/1000th second)\n",
    "# $100 for 1.0 TB, n$ 0.011  latency = 7 ms , latency-distance 2098 km (Munich-Moscow)"
   ]
  },
  {
   "cell_type": "markdown",
   "metadata": {},
   "source": [
    "### Quiz: Measure Udacity"
   ]
  },
  {
   "cell_type": "markdown",
   "metadata": {},
   "source": [
    "<pre>\n",
    "Using simple for loop, iterate through the list of strings.\n",
    "Use if statement to check if the first letter is 'U'.\n",
    "If true, add to count and then return the count total after\n",
    "for loop is finished.\n",
    "</pre>"
   ]
  },
  {
   "cell_type": "code",
   "execution_count": 13,
   "metadata": {},
   "outputs": [
    {
     "name": "stdout",
     "output_type": "stream",
     "text": [
      "0\n",
      "2\n"
     ]
    }
   ],
   "source": [
    "# Define a procedure, measure_udacity,\n",
    "# that takes as its input a list of strings,\n",
    "# and returns a number that is a count\n",
    "# of the number of elements in the input\n",
    "# list that start with the uppercase \n",
    "# letter 'U'.\n",
    "\n",
    "def measure_udacity(list_strings):\n",
    "    count = 0\n",
    "    for i in list_strings:\n",
    "        if i[0] == 'U':\n",
    "            count += 1\n",
    "    return count\n",
    "\n",
    "\n",
    "print measure_udacity(['Dave','Sebastian','Katy'])\n",
    "#>>> 0\n",
    "\n",
    "print measure_udacity(['Umika','Umberto'])\n",
    "#>>> 2"
   ]
  },
  {
   "cell_type": "markdown",
   "metadata": {},
   "source": [
    "### Quiz: Find Element"
   ]
  },
  {
   "cell_type": "code",
   "execution_count": 14,
   "metadata": {},
   "outputs": [
    {
     "name": "stdout",
     "output_type": "stream",
     "text": [
      "2\n",
      "-1\n"
     ]
    }
   ],
   "source": [
    "# Define a procedure, find_element,\n",
    "# that takes as its inputs a list\n",
    "# and a value of any type, and\n",
    "# returns the index of the first\n",
    "# element in the input list that\n",
    "# matches the value.\n",
    "\n",
    "# If there is no matching element,\n",
    "# return -1.\n",
    "\n",
    "def find_element(input_list, value):\n",
    "    index = 0\n",
    "    for i in input_list:\n",
    "        if i == value:\n",
    "            return index\n",
    "        index += 1\n",
    "    return -1\n",
    "\n",
    "print find_element([1,2,3],3)\n",
    "#>>> 2\n",
    "\n",
    "print find_element(['alpha','beta'],'gamma')\n",
    "#>>> -1"
   ]
  },
  {
   "cell_type": "code",
   "execution_count": 15,
   "metadata": {
    "collapsed": true
   },
   "outputs": [],
   "source": [
    "# alternative while loop\n",
    "def find_element(input_list, value):\n",
    "    index = 0\n",
    "    while index < len(p):\n",
    "        if p[i] == t:\n",
    "            return i\n",
    "        index += 1\n",
    "    return -1"
   ]
  },
  {
   "cell_type": "markdown",
   "metadata": {},
   "source": [
    "### Quiz: Index"
   ]
  },
  {
   "cell_type": "code",
   "execution_count": null,
   "metadata": {
    "collapsed": true
   },
   "outputs": [],
   "source": [
    "# index method\n",
    "# <list>.index(<value>)\n",
    "# output = index position or error\n",
    "\n",
    "# in procedure\n",
    "# <value> in <list>\n",
    "# <value> not in <list>\n",
    "# output = True or False"
   ]
  },
  {
   "cell_type": "code",
   "execution_count": 16,
   "metadata": {},
   "outputs": [
    {
     "name": "stdout",
     "output_type": "stream",
     "text": [
      "2\n",
      "-1\n"
     ]
    }
   ],
   "source": [
    "# Define a procedure, find_element,\n",
    "# using index that takes as its\n",
    "# inputs a list and a value of any\n",
    "# type, and returns the index of\n",
    "# the first element in the input\n",
    "# list that matches the value.\n",
    "\n",
    "# If there is no matching element,\n",
    "# return -1.\n",
    "\n",
    "def find_element(input_list, value):\n",
    "    if value in input_list:\n",
    "        return input_list.index(value)\n",
    "    return -1\n",
    "\n",
    "#---------------------------------------------\n",
    "print find_element([1,2,3],3)\n",
    "#>>> 2\n",
    "\n",
    "print find_element(['alpha','beta'],'gamma')\n",
    "#>>> -1"
   ]
  },
  {
   "cell_type": "code",
   "execution_count": null,
   "metadata": {
    "collapsed": true
   },
   "outputs": [],
   "source": [
    "# alternative\n",
    "def find_element(input_list, value):\n",
    "    if value not in input_list:\n",
    "        return -1\n",
    "    return input_list.index(value)"
   ]
  },
  {
   "cell_type": "markdown",
   "metadata": {},
   "source": [
    "### Quiz: Union"
   ]
  },
  {
   "cell_type": "code",
   "execution_count": 17,
   "metadata": {},
   "outputs": [
    {
     "name": "stdout",
     "output_type": "stream",
     "text": [
      "[1, 2, 3, 4, 6]\n",
      "[2, 4, 6]\n"
     ]
    }
   ],
   "source": [
    "# Define a procedure, union,\n",
    "# that takes as inputs two lists.\n",
    "# It should modify the first input\n",
    "# list to be the set union of the two\n",
    "# lists. You may assume the first list\n",
    "# is a set, that is, it contains no \n",
    "# repeated elements.\n",
    "\n",
    "def union(list1, list2):\n",
    "    for i in list2:\n",
    "        if i not in list1:\n",
    "            list1.append(i)\n",
    "    return\n",
    "\n",
    "# To test, uncomment all lines \n",
    "# below except those beginning with >>>.\n",
    "\n",
    "a = [1,2,3]\n",
    "b = [2,4,6]\n",
    "union(a,b)\n",
    "print a \n",
    "#>>> [1,2,3,4,6]\n",
    "print b\n",
    "#>>> [2,4,6]"
   ]
  },
  {
   "cell_type": "markdown",
   "metadata": {},
   "source": [
    "### Pop Method"
   ]
  },
  {
   "cell_type": "code",
   "execution_count": null,
   "metadata": {
    "collapsed": true
   },
   "outputs": [],
   "source": [
    "# pop method\n",
    "# <list>.pop()\n",
    "# mutates the list by removing and returning its last element\n",
    "# output = last element, mutates list without last element"
   ]
  },
  {
   "cell_type": "markdown",
   "metadata": {},
   "source": [
    "### Web Crawler"
   ]
  },
  {
   "cell_type": "code",
   "execution_count": null,
   "metadata": {
    "collapsed": true
   },
   "outputs": [],
   "source": [
    "def get_page(url):\n",
    "    # This is a simulated get_page procedure so that you can test your\n",
    "    # code on two pages \"http://xkcd.com/353\" and \"http://xkcd.com/554\".\n",
    "    # A procedure which actually grabs a page from the web will be \n",
    "    # introduced in unit 4.\n",
    "    try:\n",
    "        if url == \"http://xkcd.com/353\":\n",
    "            return  '<?xml version=\"1.0\" encoding=\"utf-8\" ?><?xml-stylesheet href=\"http://imgs.xkcd.com/s/c40a9f8.css\" type=\"text/css\" media=\"screen\" ?><!DOCTYPE html PUBLIC \"-//W3C//DTD XHTML 1.1//EN\" \"http://www.w3.org/TR/xhtml11/DTD/xhtml11.dtd\"><html xmlns=\"http://www.w3.org/1999/xhtml\"> <head> <title>xkcd: Python</title> <link rel=\"stylesheet\" type=\"text/css\" href=\"http://imgs.xkcd.com/s/c40a9f8.css\" media=\"screen\" title=\"Default\" /> <!--[if IE]><link rel=\"stylesheet\" type=\"text/css\" href=\"http://imgs.xkcd.com/s/ecbbecc.css\" media=\"screen\" title=\"Default\" /><![endif]--> <link rel=\"alternate\" type=\"application/atom+xml\" title=\"Atom 1.0\" href=\"/atom.xml\" /> <link rel=\"alternate\" type=\"application/rss+xml\" title=\"RSS 2.0\" href=\"/rss.xml\" /> <link rel=\"icon\" href=\"http://imgs.xkcd.com/s/919f273.ico\" type=\"image/x-icon\" /> <link rel=\"shortcut icon\" href=\"http://imgs.xkcd.com/s/919f273.ico\" type=\"image/x-icon\" /> </head> <body> <div id=\"container\"> <div id=\"topContainer\"> <div id=\"topLeft\" class=\"dialog\"> <div class=\"hd\"><div class=\"c\"></div></div> <div class=\"bd\"> <div class=\"c\"> <div class=\"s\">\\t<ul> <li><a href=\"http://xkcd.com/554\"\">Archive</a><br /></li>\\t <li><a href=\"http://blag.xkcd.com/\">News/Blag</a><br /></li> <li><a href=\"http://store.xkcd.com/\">Store</a><br /></li> <li><a href=\"/about/\">About</a><br /></li> <li><a href=\"http://forums.xkcd.com/\">Forums</a><br /></li> </ul> </div> </div> </div> <div class=\"ft\"><div class=\"c\"></div></div> </div> <div id=\"topRight\" class=\"dialog\"> <div class=\"hd\"><div class=\"c\"></div></div> <div class=\"bd\"> <div class=\"c\"> <div class=\"s\"> <div id=\"topRightContainer\"> <div id=\"logo\"> <a href=\"/\"><img src=\"http://imgs.xkcd.com/s/9be30a7.png\" alt=\"xkcd.com logo\" height=\"83\" width=\"185\"/></a> <h2><br />A webcomic of romance,<br/> sarcasm, math, and language.</h2> <div class=\"clearleft\"></div> <br />XKCD updates every Monday, Wednesday, and Friday. </div> </div> </div> </div> </div> <div class=\"ft\"><div class=\"c\"></div></div> </div> </div> <div id=\"contentContainer\"> <div id=\"middleContent\" class=\"dialog\"> <div class=\"hd\"><div class=\"c\"></div></div> <div class=\"bd\"> <div class=\"c\"> <div class=\"s\"><h1>Python</h1><br/><br /><div class=\"menuCont\"> <ul> <li><a href=\"/1/\">|&lt;</a></li> <li><a href=\"/352/\" accesskey=\"p\">&lt; Prev</a></li> <li><a href=\"http://dynamic.xkcd.com/random/comic/\" id=\"rnd_btn_t\">Random</a></li> <li><a href=\"/354/\" accesskey=\"n\">Next &gt;</a></li> <li><a href=\"/\">&gt;|</a></li> </ul></div><br/><br/><img src=\"http://imgs.xkcd.com/comics/python.png\" title=\"I wrote 20 short programs in Python yesterday. It was wonderful. Perl, Im leaving you.\" alt=\"Python\" /><br/><br/><div class=\"menuCont\"> <ul> <li><a href=\"/1/\">|&lt;</a></li> <li><a href=\"/352/\" accesskey=\"p\">&lt; Prev</a></li> <li><a href=\"http://dynamic.xkcd.com/random/comic/\" id=\"rnd_btn_b\">Random</a></li> <li><a href=\"/354/\" accesskey=\"n\">Next &gt;</a></li> <li><a href=\"/\">&gt;|</a></li> </ul></div><h3>Permanent link to this comic: http://xkcd.com/353/</h3><h3>Image URL (for hotlinking/embedding): http://imgs.xkcd.com/comics/python.png</h3><div id=\"transcript\" style=\"display: none\">[[ Guy 1 is talking to Guy 2, who is floating in the sky ]]Guy 1: You39;re flying! How?Guy 2: Python!Guy 2: I learned it last night! Everything is so simple!Guy 2: Hello world is just 39;print &quot;Hello, World!&quot; 39;Guy 1: I dunno... Dynamic typing? Whitespace?Guy 2: Come join us! Programming is fun again! It39;s a whole new world up here!Guy 1: But how are you flying?Guy 2: I just typed 39;import antigravity39;Guy 1: That39;s it?Guy 2: ...I also sampled everything in the medicine cabinet for comparison.Guy 2: But i think this is the python.{{ I wrote 20 short programs in Python yesterday. It was wonderful. Perl, I39;m leaving you. }}</div> </div> </div> </div> <div class=\"ft\"><div class=\"c\"></div></div> </div> <div id=\"middleFooter\" class=\"dialog\"> <div class=\"hd\"><div class=\"c\"></div></div> <div class=\"bd\"> <div class=\"c\"> <div class=\"s\"> <img src=\"http://imgs.xkcd.com/s/a899e84.jpg\" width=\"520\" height=\"100\" alt=\"Selected Comics\" usemap=\" comicmap\" /> <map name=\"comicmap\"> <area shape=\"rect\" coords=\"0,0,100,100\" href=\"/150/\" alt=\"Grownups\" /> <area shape=\"rect\" coords=\"104,0,204,100\" href=\"/730/\" alt=\"Circuit Diagram\" /> <area shape=\"rect\" coords=\"208,0,308,100\" href=\"/162/\" alt=\"Angular Momentum\" /> <area shape=\"rect\" coords=\"312,0,412,100\" href=\"/688/\" alt=\"Self-Description\" /> <area shape=\"rect\" coords=\"416,0,520,100\" href=\"/556/\" alt=\"Alternative Energy Revolution\" /> </map><br/><br />Search comic titles and transcripts:<br /><script type=\"text/javascript\" src=\"//www.google.com/jsapi\"></script><script type=\"text/javascript\"> google.load(\\\"search\\\", \\\"1\\\"); google.setOnLoadCallback(function() { google.search.CustomSearchControl.attachAutoCompletion( \\\"012652707207066138651:zudjtuwe28q\\\", document.getElementById(\\\"q\\\"), \\\"cse-search-box\\\"); });</script><form action=\"//www.google.com/cse\" id=\"cse-search-box\"> <div> <input type=\"hidden\" name=\"cx\" value=\"012652707207066138651:zudjtuwe28q\" /> <input type=\"hidden\" name=\"ie\" value=\"UTF-8\" /> <input type=\"text\" name=\"q\" id=\"q\" autocomplete=\"off\" size=\"31\" /> <input type=\"submit\" name=\"sa\" value=\"Search\" /> </div></form><script type=\"text/javascript\" src=\"//www.google.com/cse/brand?form=cse-search-box&lang=en\"></script><a href=\"/rss.xml\">RSS Feed</a> - <a href=\"/atom.xml\">Atom Feed</a><br /> <br/> <div id=\"comicLinks\"> Comics I enjoy:<br/> <a href=\"http://www.qwantz.com\">Dinosaur Comics</a>, <a href=\"http://www.asofterworld.com\">A Softer World</a>, <a href=\"http://pbfcomics.com/\">Perry Bible Fellowship</a>, <a href=\"http://www.boltcity.com/copper/\">Copper</a>, <a href=\"http://questionablecontent.net/\">Questionable Content</a>, <a href=\"http://achewood.com/\">Achewood</a>, <a href=\"http://wondermark.com/\">Wondermark</a>, <a href=\"http://thisisindexed.com/\">Indexed</a>, <a href=\"http://www.buttercupfestival.com/buttercupfestival.htm\">Buttercup Festival</a> </div> <br/> Warning: this comic occasionally contains strong language (which may be unsuitable for children), unusual humor (which may be unsuitable for adults), and advanced mathematics (which may be unsuitable for liberal-arts majors).<br/> <br/> <h4>We did not invent the algorithm. The algorithm consistently finds Jesus. The algorithm killed Jeeves. <br />The algorithm is banned in China. The algorithm is from Jersey. The algorithm constantly finds Jesus.<br />This is not the algorithm. This is close.</h4><br/> <div class=\"line\"></div> <br/> <div id=\"licenseText\"> <!-- <a rel=\"license\" href=\"http://creativecommons.org/licenses/by-nc/2.5/\"><img alt=\"Creative Commons License\" style=\"border:none\" src=\"http://imgs.xkcd.com/static/somerights20.png\" /></a><br/> --> This work is licensed under a <a rel=\"license\" href=\"http://creativecommons.org/licenses/by-nc/2.5/\">Creative Commons Attribution-NonCommercial 2.5 License</a>.<!-- <rdf:RDF xmlns=\"http://web.resource.org/cc/\" xmlns:dc=\"http://purl.org/dc/elements/1.1/\" xmlns:dcterms=\"http://purl.org/dc/terms/\" xmlns:rdf=\"http://www.w3.org/1999/02/22-rdf-syntax-ns \"><Work rdf:about=\"\"><dc:creator>Randall Munroe</dc:creator><dcterms:rightsHolder>Randall Munroe</dcterms:rightsHolder><dc:type rdf:resource=\"http://purl.org/dc/dcmitype/StillImage\" /><dc:source rdf:resource=\"http://www.xkcd.com/\"/><license rdf:resource=\"http://creativecommons.org/licenses/by-nc/2.5/\" /></Work><License rdf:about=\"http://creativecommons.org/licenses/by-nc/2.5/\"><permits rdf:resource=\"http://web.resource.org/cc/Reproduction\" /><permits rdf:resource=\"http://web.resource.org/cc/Distribution\" /><requires rdf:resource=\"http://web.resource.org/cc/Notice\" /><requires rdf:resource=\"http://web.resource.org/cc/Attribution\" /><prohibits rdf:resource=\"http://web.resource.org/cc/CommercialUse\" /><permits rdf:resource=\"http://web.resource.org/cc/DerivativeWorks\" /></License></rdf:RDF> --> <br/> This means you\\\"re free to copy and share these comics (but not to sell them). <a href=\"/license.html\">More details</a>.<br/> </div> </div> </div> </div> <div class=\"ft\"><div class=\"c\"></div></div> </div> </div> </div> </body></html> '\n",
    "        elif url == \"http://xkcd.com/554\":\n",
    "            return  '<?xml version=\"1.0\" encoding=\"utf-8\" ?> <?xml-stylesheet href=\"http://imgs.xkcd.com/s/c40a9f8.css\" type=\"text/css\" media=\"screen\" ?> <!DOCTYPE html PUBLIC \"-//W3C//DTD XHTML 1.1//EN\" \"http://www.w3.org/TR/xhtml11/DTD/xhtml11.dtd\"> <html xmlns=\"http://www.w3.org/1999/xhtml\"> <head> <title>xkcd: Not Enough Work</title> <link rel=\"stylesheet\" type=\"text/css\" href=\"http://imgs.xkcd.com/s/c40a9f8.css\" media=\"screen\" title=\"Default\" /> <!--[if IE]><link rel=\"stylesheet\" type=\"text/css\" href=\"http://imgs.xkcd.com/s/ecbbecc.css\" media=\"screen\" title=\"Default\" /><![endif]--> <link rel=\"alternate\" type=\"application/atom+xml\" title=\"Atom 1.0\" href=\"/atom.xml\" /> <link rel=\"alternate\" type=\"application/rss+xml\" title=\"RSS 2.0\" href=\"/rss.xml\" /> <link rel=\"icon\" href=\"http://imgs.xkcd.com/s/919f273.ico\" type=\"image/x-icon\" /> <link rel=\"shortcut icon\" href=\"http://imgs.xkcd.com/s/919f273.ico\" type=\"image/x-icon\" /> </head> <body> <div id=\"container\"> <div id=\"topContainer\"> <div id=\"topLeft\" class=\"dialog\"> <div class=\"hd\"><div class=\"c\"></div></div> <div class=\"bd\"> <div class=\"c\"> <div class=\"s\"> <ul> <li><a href=\"/archive/\">Archive</a><br /></li> <li><a href=\"http://blag.xkcd.com/\">News/Blag</a><br /></li> <li><a href=\"http://store.xkcd.com/\">Store</a><br /></li> <li><a href=\"/about/\">About</a><br /></li> <li><a href=\"http://forums.xkcd.com/\">Forums</a><br /></li> </ul> </div> </div> </div> <div class=\"ft\"><div class=\"c\"></div></div> </div> <div id=\"topRight\" class=\"dialog\"> <div class=\"hd\"><div class=\"c\"></div></div> <div class=\"bd\"> <div class=\"c\"> <div class=\"s\"> <div id=\"topRightContainer\"> <div id=\"logo\"> <a href=\"/\"><img src=\"http://imgs.xkcd.com/s/9be30a7.png\" alt=\"xkcd.com logo\" height=\"83\" width=\"185\"/></a> <h2><br />A webcomic of romance,<br/> sarcasm, math, and language.</h2> <div class=\"clearleft\"></div> XKCD updates every Monday, Wednesday, and Friday. <br /> Blag: Remember geohashing? <a href=\"http://blog.xkcd.com/2012/02/27/geohashing-2/\">Something pretty cool</a> happened Sunday. </div> </div> </div> </div> </div> <div class=\"ft\"><div class=\"c\"></div></div> </div> </div> <div id=\"contentContainer\"> <div id=\"middleContent\" class=\"dialog\"> <div class=\"hd\"><div class=\"c\"></div></div> <div class=\"bd\"> <div class=\"c\"> <div class=\"s\"> <h1>Not Enough Work</h1><br/> <br /> <div class=\"menuCont\"> <ul> <li><a href=\"/1/\">|&lt;</a></li> <li><a href=\"/553/\" accesskey=\"p\">&lt; Prev</a></li> <li><a href=\"http://dynamic.xkcd.com/random/comic/\" id=\"rnd_btn_t\">Random</a></li> <li><a href=\"/555/\" accesskey=\"n\">Next &gt;</a></li> <li><a href=\"/\">&gt;|</a></li> </ul> </div> <br/> <br/> <img src=\"http://imgs.xkcd.com/comics/not_enough_work.png\" title=\"It39;s even harder if you39;re an asshole who pronounces &lt;&gt; brackets.\" alt=\"Not Enough Work\" /><br/> <br/> <div class=\"menuCont\"> <ul> <li><a href=\"/1/\">|&lt;</a></li> <li><a href=\"/553/\" accesskey=\"p\">&lt; Prev</a></li> <li><a href=\"http://dynamic.xkcd.com/random/comic/\" id=\"rnd_btn_b\">Random</a></li> <li><a href=\"/555/\" accesskey=\"n\">Next &gt;</a></li> <li><a href=\"/\">&gt;|</a></li> </ul> </div> <h3>Permanent link to this comic: http://xkcd.com/554/</h3> <h3>Image URL (for hotlinking/embedding): http://imgs.xkcd.com/comics/not_enough_work.png</h3> <div id=\"transcript\" style=\"display: none\">Narration: Signs your coders don39;t have enough work to do: [[A man sitting at his workstation; a female co-worker behind him]] Man: I39;m almost up to my old typing speed in dvorak [[Two men standing by a server rack]] Man  1: Our servers now support gopher. Man  1: Just in case. [[A woman standing near her workstation speaking to a male co-worker]] Woman: Our pages are now HTML, XHTML-STRICT, and haiku-compliant Man: Haiku? Woman: &lt;div class=&quot;main&quot;&gt; Woman: &lt;span id=&quot;marquee&quot;&gt; Woman: Blog!&lt; span&gt;&lt; div&gt; [[A woman sitting at her workstation]] Woman: Hey! Have you guys seen this webcomic? {{title text: It39;s even harder if you39;re an asshole who pronounces &lt;&gt; brackets.}}</div> </div> </div> </div> <div class=\"ft\"><div class=\"c\"></div></div> </div> <div id=\"middleFooter\" class=\"dialog\"> <div class=\"hd\"><div class=\"c\"></div></div> <div class=\"bd\"> <div class=\"c\"> <div class=\"s\"> <img src=\"http://imgs.xkcd.com/s/a899e84.jpg\" width=\"520\" height=\"100\" alt=\"Selected Comics\" usemap=\" comicmap\" /> <map name=\"comicmap\"> <area shape=\"rect\" coords=\"0,0,100,100\" href=\"/150/\" alt=\"Grownups\" /> <area shape=\"rect\" coords=\"104,0,204,100\" href=\"/730/\" alt=\"Circuit Diagram\" /> <area shape=\"rect\" coords=\"208,0,308,100\" href=\"/162/\" alt=\"Angular Momentum\" /> <area shape=\"rect\" coords=\"312,0,412,100\" href=\"/688/\" alt=\"Self-Description\" /> <area shape=\"rect\" coords=\"416,0,520,100\" href=\"/556/\" alt=\"Alternative Energy Revolution\" /> </map><br/><br /> Search comic titles and transcripts:<br /> <script type=\"text/javascript\" src=\"//www.google.com/jsapi\"></script> <script type=\"text/javascript\"> google.load(\"search\", \"1\"); google.search.CustomSearchControl.attachAutoCompletion( \"012652707207066138651:zudjtuwe28q\", document.getElementById(\"q\"), \"cse-search-box\"); }); </script> <form action=\"//www.google.com/cse\" id=\"cse-search-box\"> <div> <input type=\"hidden\" name=\"cx\" value=\"012652707207066138651:zudjtuwe28q\" /> <input type=\"hidden\" name=\"ie\" value=\"UTF-8\" /> <input type=\"text\" name=\"q\" id=\"q\" autocomplete=\"off\" size=\"31\" /> <input type=\"submit\" name=\"sa\" value=\"Search\" /> </div> </form> <script type=\"text/javascript\" src=\"//www.google.com/cse/brand?form=cse-search-box&lang=en\"></script> <a href=\"/rss.xml\">RSS Feed</a> - <a href=\"/atom.xml\">Atom Feed</a> <br /> <br/> <div id=\"comicLinks\"> Comics I enjoy:<br/> <a href=\"http://threewordphrase.com/\">Three Word Phrase</a>, <a href=\"http://oglaf.com/\">Oglaf</a> (nsfw), <a href=\"http://www.smbc-comics.com/\">SMBC</a>, <a href=\"http://www.qwantz.com\">Dinosaur Comics</a>, <a href=\"http://www.asofterworld.com\">A Softer World</a>, <a href=\"http://buttersafe.com/\">Buttersafe</a>, <a href=\"http://pbfcomics.com/\">Perry Bible Fellowship</a>, <a href=\"http://questionablecontent.net/\">Questionable Content</a>, <a href=\"http://www.buttercupfestival.com/buttercupfestival.htm\">Buttercup Festival</a> </div> <br/> Warning: this comic occasionally contains strong language (which may be unsuitable for children), unusual humor (which may be unsuitable for adults), and advanced mathematics (which may be unsuitable for liberal-arts majors).<br/> <br/> <h4>We did not invent the algorithm. The algorithm consistently finds Jesus. The algorithm killed Jeeves. <br />The algorithm is banned in China. The algorithm is from Jersey. The algorithm constantly finds Jesus.<br />This is not the algorithm. This is close.</h4><br/> <div class=\"line\"></div> <br/> <div id=\"licenseText\"> <!-- <a rel=\"license\" href=\"http://creativecommons.org/licenses/by-nc/2.5/\"><img alt=\"Creative Commons License\" style=\"border:none\" src=\"http://imgs.xkcd.com/static/somerights20.png\" /></a><br/> --> This work is licensed under a <a rel=\"license\" href=\"http://creativecommons.org/licenses/by-nc/2.5/\">Creative Commons Attribution-NonCommercial 2.5 License</a>. <!-- <rdf:RDF xmlns=\"http://web.resource.org/cc/\" xmlns:dc=\"http://purl.org/dc/elements/1.1/\" xmlns:dcterms=\"http://purl.org/dc/terms/\" xmlns:rdf=\"http://www.w3.org/1999/02/22-rdf-syntax-ns \"><Work rdf:about=\"\"><dc:creator>Randall Munroe</dc:creator><dcterms:rightsHolder>Randall Munroe</dcterms:rightsHolder><dc:type rdf:resource=\"http://purl.org/dc/dcmitype/StillImage\" /><dc:source rdf:resource=\"http://www.xkcd.com/\"/><license rdf:resource=\"http://creativecommons.org/licenses/by-nc/2.5/\" /></Work><License rdf:about=\"http://creativecommons.org/licenses/by-nc/2.5/\"><permits rdf:resource=\"http://web.resource.org/cc/Reproduction\" /><permits rdf:resource=\"http://web.resource.org/cc/Distribution\" /><requires rdf:resource=\"http://web.resource.org/cc/Notice\" /><requires rdf:resource=\"http://web.resource.org/cc/Attribution\" /><prohibits rdf:resource=\"http://web.resource.org/cc/CommercialUse\" /><permits rdf:resource=\"http://web.resource.org/cc/DerivativeWorks\" /></License></rdf:RDF> --> <br/> This means you\"re free to copy and share these comics (but not to sell them). <a href=\"/license.html\">More details</a>.<br/> </div> </div> </div> </div> <div class=\"ft\"><div class=\"c\"></div></div> </div> </div> </div> </body> </html> '\n",
    "    except:\n",
    "        return \"\"\n",
    "    return \"\"\n",
    "\n",
    "def get_next_target(page):\n",
    "    start_link = page.find('<a href=')\n",
    "    if start_link == -1: \n",
    "        return None, 0\n",
    "    start_quote = page.find('\"', start_link)\n",
    "    end_quote = page.find('\"', start_quote + 1)\n",
    "    url = page[start_quote + 1:end_quote]\n",
    "    return url, end_quote\n",
    "\n",
    "def union(p,q):\n",
    "    for e in q:\n",
    "        if e not in p:\n",
    "            p.append(e)\n",
    "\n",
    "\n",
    "def get_all_links(page):\n",
    "    links = []\n",
    "    while True:\n",
    "        url,endpos = get_next_target(page)\n",
    "        if url:\n",
    "            links.append(url)\n",
    "            page = page[endpos:]\n",
    "        else:\n",
    "            break\n",
    "    return links\n",
    "\n",
    "def crawl_web(seed):\n",
    "    tocrawl = [seed]\n",
    "    crawled = []\n",
    "    while tocrawl:\n",
    "        page = tocrawl.pop()\n",
    "        if page not in crawled:\n",
    "            union(tocrawl, get_all_links(get_page(page)))\n",
    "            crawled.append(page)\n",
    "    return crawled\n",
    "\n"
   ]
  },
  {
   "cell_type": "code",
   "execution_count": 20,
   "metadata": {},
   "outputs": [
    {
     "name": "stdout",
     "output_type": "stream",
     "text": [
      "[1, 2, 3, 4]\n"
     ]
    }
   ],
   "source": [
    "a = [1, 2]\n",
    "b = [3, 4]\n",
    "a = a + b\n",
    "print a"
   ]
  },
  {
   "cell_type": "code",
   "execution_count": null,
   "metadata": {
    "collapsed": true
   },
   "outputs": [],
   "source": []
  }
 ],
 "metadata": {
  "kernelspec": {
   "display_name": "Python [default]",
   "language": "python",
   "name": "python2"
  },
  "language_info": {
   "codemirror_mode": {
    "name": "ipython",
    "version": 2
   },
   "file_extension": ".py",
   "mimetype": "text/x-python",
   "name": "python",
   "nbconvert_exporter": "python",
   "pygments_lexer": "ipython2",
   "version": "2.7.13"
  }
 },
 "nbformat": 4,
 "nbformat_minor": 2
}
