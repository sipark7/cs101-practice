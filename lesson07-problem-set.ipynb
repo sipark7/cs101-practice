{
 "cells": [
  {
   "cell_type": "markdown",
   "metadata": {},
   "source": [
    "# Practice Problems for Python\n",
    "## Udacity Intro to Computer Science (CS101)"
   ]
  },
  {
   "cell_type": "markdown",
   "metadata": {},
   "source": [
    "### Quiz: Weekend"
   ]
  },
  {
   "cell_type": "markdown",
   "metadata": {},
   "source": [
    "<pre>\n",
    "Simple if, else statements.\n",
    "</pre>"
   ]
  },
  {
   "cell_type": "code",
   "execution_count": 1,
   "metadata": {},
   "outputs": [
    {
     "name": "stdout",
     "output_type": "stream",
     "text": [
      "False\n",
      "True\n",
      "False\n"
     ]
    }
   ],
   "source": [
    "# Define a procedure weekend which takes a string as its input, and\n",
    "# returns the boolean True if it's 'Saturday' or 'Sunday' and False otherwise.\n",
    "\n",
    "def weekend(day):\n",
    "    # your code here\n",
    "    if day == 'Saturday' or day == 'Sunday':\n",
    "        return True\n",
    "    else:\n",
    "        return False\n",
    "print weekend('Monday')\n",
    "#>>> False\n",
    "\n",
    "print weekend('Saturday')\n",
    "#>>> True\n",
    "\n",
    "print weekend('July')\n",
    "#>>> False"
   ]
  },
  {
   "cell_type": "markdown",
   "metadata": {},
   "source": [
    "### Quiz: Stamps"
   ]
  },
  {
   "cell_type": "code",
   "execution_count": null,
   "metadata": {
    "collapsed": true
   },
   "outputs": [],
   "source": [
    "# Define a procedure, stamps, which takes as its input a positive integer in\n",
    "# pence and returns the number of 5p, 2p and 1p stamps (p is pence) required \n",
    "# to make up that value. The return value should be a tuple of three numbers \n",
    "# (that is, your return statement should be followed by the number of 5p,\n",
    "# the number of 2p, and the nuber of 1p stamps).\n",
    "#\n",
    "# Your answer should use as few total stamps as possible by first using as \n",
    "# many 5p stamps as possible, then 2 pence stamps and finally 1p stamps as \n",
    "# needed to make up the total.\n",
    "#\n",
    "# (No fair for USians to just say use a \"Forever\" stamp and be done with it!)\n",
    "#"
   ]
  },
  {
   "cell_type": "markdown",
   "metadata": {},
   "source": [
    "<pre>\n",
    "Simple while loops to return a tuple.\n",
    "</pre>"
   ]
  },
  {
   "cell_type": "code",
   "execution_count": 2,
   "metadata": {},
   "outputs": [
    {
     "name": "stdout",
     "output_type": "stream",
     "text": [
      "(1, 1, 1)\n",
      "(1, 0, 0)\n",
      "(5, 2, 0)\n",
      "(0, 0, 0)\n"
     ]
    }
   ],
   "source": [
    "def stamps(num):\n",
    "    a, b, c = 0, 0, 0\n",
    "    while num >= 5:\n",
    "        num = num - 5\n",
    "        a = a + 1\n",
    "    while num >= 2:\n",
    "        num = num - 2\n",
    "        b = b + 1\n",
    "    while num >= 1:\n",
    "        num = num - 1\n",
    "        c = c + 1\n",
    "    return (a, b, c)\n",
    "        \n",
    "\n",
    "\n",
    "print stamps(8)\n",
    "#>>> (1, 1, 1)  # one 5p stamp, one 2p stamp and one 1p stamp\n",
    "print stamps(5)\n",
    "#>>> (1, 0, 0)  # one 5p stamp, no 2p stamps and no 1p stamps\n",
    "print stamps(29)\n",
    "#>>> (5, 2, 0)  # five 5p stamps, two 2p stamps and no 1p stamps\n",
    "print stamps(0)\n",
    "#>>> (0, 0, 0) # no 5p stamps, no 2p stamps and no 1p stamps"
   ]
  },
  {
   "cell_type": "markdown",
   "metadata": {},
   "source": [
    "### Quiz: Range of a Set"
   ]
  },
  {
   "cell_type": "code",
   "execution_count": null,
   "metadata": {
    "collapsed": true
   },
   "outputs": [],
   "source": [
    "# The range of a set of values is the maximum value minus the minimum\n",
    "# value. Define a procedure, set_range, which returns the range of three input\n",
    "# values.\n",
    "\n",
    "# Hint: the procedure, biggest which you coded in this unit\n",
    "# might help you with this question. You might also like to find a way to\n",
    "# code it using some built-in functions."
   ]
  },
  {
   "cell_type": "markdown",
   "metadata": {},
   "source": [
    "<pre>\n",
    "Just decided to use min and max built-in functions.\n",
    "</pre>"
   ]
  },
  {
   "cell_type": "code",
   "execution_count": 3,
   "metadata": {},
   "outputs": [
    {
     "name": "stdout",
     "output_type": "stream",
     "text": [
      "6\n",
      "17.6\n"
     ]
    }
   ],
   "source": [
    "def set_range(a, b, c):\n",
    "    return max(a, b, c) - min(a, b, c)\n",
    "\n",
    "\n",
    "print set_range(10, 4, 7)\n",
    "#>>> 6  # since 10 - 4 = 6\n",
    "\n",
    "print set_range(1.1, 7.4, 18.7)\n",
    "#>>> 17.6 # since 18.7 - 1.1 = 17.6"
   ]
  },
  {
   "cell_type": "code",
   "execution_count": null,
   "metadata": {
    "collapsed": true
   },
   "outputs": [],
   "source": []
  }
 ],
 "metadata": {
  "kernelspec": {
   "display_name": "Python [default]",
   "language": "python",
   "name": "python2"
  },
  "language_info": {
   "codemirror_mode": {
    "name": "ipython",
    "version": 2
   },
   "file_extension": ".py",
   "mimetype": "text/x-python",
   "name": "python",
   "nbconvert_exporter": "python",
   "pygments_lexer": "ipython2",
   "version": "2.7.13"
  }
 },
 "nbformat": 4,
 "nbformat_minor": 2
}
